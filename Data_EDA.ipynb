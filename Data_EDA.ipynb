{
 "cells": [
  {
   "cell_type": "code",
   "execution_count": 1,
   "id": "53e72399",
   "metadata": {},
   "outputs": [],
   "source": [
    "import pandas as pd\n",
    "import matplotlib.pyplot as plt\n",
    "import seaborn as sns"
   ]
  },
  {
   "cell_type": "code",
   "execution_count": 2,
   "id": "f57f9f07",
   "metadata": {},
   "outputs": [],
   "source": [
    "df = pd.read_csv('Cleaned_DS_Jobs.csv')"
   ]
  },
  {
   "cell_type": "code",
   "execution_count": 3,
   "id": "5a0d3db1",
   "metadata": {},
   "outputs": [
    {
     "data": {
      "text/html": [
       "<div>\n",
       "<style scoped>\n",
       "    .dataframe tbody tr th:only-of-type {\n",
       "        vertical-align: middle;\n",
       "    }\n",
       "\n",
       "    .dataframe tbody tr th {\n",
       "        vertical-align: top;\n",
       "    }\n",
       "\n",
       "    .dataframe thead th {\n",
       "        text-align: right;\n",
       "    }\n",
       "</style>\n",
       "<table border=\"1\" class=\"dataframe\">\n",
       "  <thead>\n",
       "    <tr style=\"text-align: right;\">\n",
       "      <th></th>\n",
       "      <th>Job Title</th>\n",
       "      <th>Salary Estimate</th>\n",
       "      <th>Job Description</th>\n",
       "      <th>Rating</th>\n",
       "      <th>Company Name</th>\n",
       "      <th>Location</th>\n",
       "      <th>Headquarters</th>\n",
       "      <th>Size</th>\n",
       "      <th>Type of ownership</th>\n",
       "      <th>Industry</th>\n",
       "      <th>...</th>\n",
       "      <th>company_age</th>\n",
       "      <th>python</th>\n",
       "      <th>excel</th>\n",
       "      <th>hadoop</th>\n",
       "      <th>spark</th>\n",
       "      <th>aws</th>\n",
       "      <th>tableau</th>\n",
       "      <th>big_data</th>\n",
       "      <th>Seniority</th>\n",
       "      <th>job_simp</th>\n",
       "    </tr>\n",
       "  </thead>\n",
       "  <tbody>\n",
       "    <tr>\n",
       "      <th>0</th>\n",
       "      <td>Sr Data Scientist</td>\n",
       "      <td>137-171</td>\n",
       "      <td>Description\\n\\nThe Senior Data Scientist is re...</td>\n",
       "      <td>3.1</td>\n",
       "      <td>Healthfirst</td>\n",
       "      <td>New York, NY</td>\n",
       "      <td>New York, NY</td>\n",
       "      <td>1001 to 5000 employees</td>\n",
       "      <td>Nonprofit Organization</td>\n",
       "      <td>Insurance Carriers</td>\n",
       "      <td>...</td>\n",
       "      <td>28</td>\n",
       "      <td>0</td>\n",
       "      <td>0</td>\n",
       "      <td>0</td>\n",
       "      <td>0</td>\n",
       "      <td>1</td>\n",
       "      <td>0</td>\n",
       "      <td>0</td>\n",
       "      <td>senior</td>\n",
       "      <td>data scientist</td>\n",
       "    </tr>\n",
       "    <tr>\n",
       "      <th>1</th>\n",
       "      <td>Data Scientist</td>\n",
       "      <td>137-171</td>\n",
       "      <td>Secure our Nation, Ignite your Future\\n\\nJoin ...</td>\n",
       "      <td>4.2</td>\n",
       "      <td>ManTech</td>\n",
       "      <td>Chantilly, VA</td>\n",
       "      <td>Herndon, VA</td>\n",
       "      <td>5001 to 10000 employees</td>\n",
       "      <td>Company - Public</td>\n",
       "      <td>Research &amp; Development</td>\n",
       "      <td>...</td>\n",
       "      <td>53</td>\n",
       "      <td>0</td>\n",
       "      <td>0</td>\n",
       "      <td>1</td>\n",
       "      <td>0</td>\n",
       "      <td>0</td>\n",
       "      <td>0</td>\n",
       "      <td>0</td>\n",
       "      <td>na</td>\n",
       "      <td>data scientist</td>\n",
       "    </tr>\n",
       "    <tr>\n",
       "      <th>2</th>\n",
       "      <td>Data Scientist</td>\n",
       "      <td>137-171</td>\n",
       "      <td>Overview\\n\\n\\nAnalysis Group is one of the lar...</td>\n",
       "      <td>3.8</td>\n",
       "      <td>Analysis Group</td>\n",
       "      <td>Boston, MA</td>\n",
       "      <td>Boston, MA</td>\n",
       "      <td>1001 to 5000 employees</td>\n",
       "      <td>Private Practice / Firm</td>\n",
       "      <td>Consulting</td>\n",
       "      <td>...</td>\n",
       "      <td>40</td>\n",
       "      <td>1</td>\n",
       "      <td>1</td>\n",
       "      <td>0</td>\n",
       "      <td>0</td>\n",
       "      <td>1</td>\n",
       "      <td>0</td>\n",
       "      <td>0</td>\n",
       "      <td>na</td>\n",
       "      <td>data scientist</td>\n",
       "    </tr>\n",
       "    <tr>\n",
       "      <th>3</th>\n",
       "      <td>Data Scientist</td>\n",
       "      <td>137-171</td>\n",
       "      <td>JOB DESCRIPTION:\\n\\nDo you have a passion for ...</td>\n",
       "      <td>3.5</td>\n",
       "      <td>INFICON</td>\n",
       "      <td>Newton, MA</td>\n",
       "      <td>Bad Ragaz, Switzerland</td>\n",
       "      <td>501 to 1000 employees</td>\n",
       "      <td>Company - Public</td>\n",
       "      <td>Electrical &amp; Electronic Manufacturing</td>\n",
       "      <td>...</td>\n",
       "      <td>21</td>\n",
       "      <td>1</td>\n",
       "      <td>1</td>\n",
       "      <td>0</td>\n",
       "      <td>0</td>\n",
       "      <td>1</td>\n",
       "      <td>0</td>\n",
       "      <td>0</td>\n",
       "      <td>na</td>\n",
       "      <td>data scientist</td>\n",
       "    </tr>\n",
       "    <tr>\n",
       "      <th>4</th>\n",
       "      <td>Data Scientist</td>\n",
       "      <td>137-171</td>\n",
       "      <td>Data Scientist\\nAffinity Solutions / Marketing...</td>\n",
       "      <td>2.9</td>\n",
       "      <td>Affinity Solutions</td>\n",
       "      <td>New York, NY</td>\n",
       "      <td>New York, NY</td>\n",
       "      <td>51 to 200 employees</td>\n",
       "      <td>Company - Private</td>\n",
       "      <td>Advertising &amp; Marketing</td>\n",
       "      <td>...</td>\n",
       "      <td>23</td>\n",
       "      <td>1</td>\n",
       "      <td>1</td>\n",
       "      <td>0</td>\n",
       "      <td>0</td>\n",
       "      <td>0</td>\n",
       "      <td>0</td>\n",
       "      <td>0</td>\n",
       "      <td>na</td>\n",
       "      <td>data scientist</td>\n",
       "    </tr>\n",
       "  </tbody>\n",
       "</table>\n",
       "<p>5 rows × 27 columns</p>\n",
       "</div>"
      ],
      "text/plain": [
       "           Job Title Salary Estimate  \\\n",
       "0  Sr Data Scientist         137-171   \n",
       "1     Data Scientist         137-171   \n",
       "2     Data Scientist         137-171   \n",
       "3     Data Scientist         137-171   \n",
       "4     Data Scientist         137-171   \n",
       "\n",
       "                                     Job Description  Rating  \\\n",
       "0  Description\\n\\nThe Senior Data Scientist is re...     3.1   \n",
       "1  Secure our Nation, Ignite your Future\\n\\nJoin ...     4.2   \n",
       "2  Overview\\n\\n\\nAnalysis Group is one of the lar...     3.8   \n",
       "3  JOB DESCRIPTION:\\n\\nDo you have a passion for ...     3.5   \n",
       "4  Data Scientist\\nAffinity Solutions / Marketing...     2.9   \n",
       "\n",
       "         Company Name       Location            Headquarters  \\\n",
       "0         Healthfirst   New York, NY            New York, NY   \n",
       "1             ManTech  Chantilly, VA             Herndon, VA   \n",
       "2      Analysis Group     Boston, MA              Boston, MA   \n",
       "3             INFICON     Newton, MA  Bad Ragaz, Switzerland   \n",
       "4  Affinity Solutions   New York, NY            New York, NY   \n",
       "\n",
       "                      Size        Type of ownership  \\\n",
       "0   1001 to 5000 employees   Nonprofit Organization   \n",
       "1  5001 to 10000 employees         Company - Public   \n",
       "2   1001 to 5000 employees  Private Practice / Firm   \n",
       "3    501 to 1000 employees         Company - Public   \n",
       "4      51 to 200 employees        Company - Private   \n",
       "\n",
       "                                Industry  ... company_age python  excel  \\\n",
       "0                     Insurance Carriers  ...          28      0      0   \n",
       "1                 Research & Development  ...          53      0      0   \n",
       "2                             Consulting  ...          40      1      1   \n",
       "3  Electrical & Electronic Manufacturing  ...          21      1      1   \n",
       "4                Advertising & Marketing  ...          23      1      1   \n",
       "\n",
       "   hadoop  spark aws  tableau  big_data  Seniority        job_simp  \n",
       "0       0      0   1        0         0     senior  data scientist  \n",
       "1       1      0   0        0         0         na  data scientist  \n",
       "2       0      0   1        0         0         na  data scientist  \n",
       "3       0      0   1        0         0         na  data scientist  \n",
       "4       0      0   0        0         0         na  data scientist  \n",
       "\n",
       "[5 rows x 27 columns]"
      ]
     },
     "execution_count": 3,
     "metadata": {},
     "output_type": "execute_result"
    }
   ],
   "source": [
    "df.head()"
   ]
  },
  {
   "cell_type": "code",
   "execution_count": 4,
   "id": "3c7712ed",
   "metadata": {},
   "outputs": [
    {
     "data": {
      "text/plain": [
       "Index(['Job Title', 'Salary Estimate', 'Job Description', 'Rating',\n",
       "       'Company Name', 'Location', 'Headquarters', 'Size', 'Type of ownership',\n",
       "       'Industry', 'Sector', 'Revenue', 'min_salary', 'max_salary',\n",
       "       'avg_salary', 'job_state', 'same_state', 'company_age', 'python',\n",
       "       'excel', 'hadoop', 'spark', 'aws', 'tableau', 'big_data', 'Seniority',\n",
       "       'job_simp'],\n",
       "      dtype='object')"
      ]
     },
     "execution_count": 4,
     "metadata": {},
     "output_type": "execute_result"
    }
   ],
   "source": [
    "df.columns"
   ]
  },
  {
   "cell_type": "code",
   "execution_count": 6,
   "id": "e867a8db",
   "metadata": {},
   "outputs": [],
   "source": [
    "def title_simplifier(title):\n",
    "    if 'data scientist' in title.lower():\n",
    "        return 'data scientist'\n",
    "    elif 'data engineer' in title.lower():\n",
    "        return 'data engineer'\n",
    "    elif 'analyst' in title.lower():\n",
    "        return 'analyst'\n",
    "    elif 'machine learning' in title.lower():\n",
    "        return 'mle'\n",
    "    elif 'manager' in title.lower():\n",
    "        return 'manager'\n",
    "    elif 'director' in title.lower():\n",
    "        return 'director'\n",
    "    elif 'vice president' in title.lower():\n",
    "        return 'vp'\n",
    "    else:\n",
    "        return 'na'\n",
    "\n",
    "def seniority(title):\n",
    "    title=title.lower()\n",
    "    snr=['sr','senior','lead','principal','vp','vice president','director']\n",
    "    for i in snr:\n",
    "        if i in title:\n",
    "            return \"senior\"\n",
    "    if \"jr\" in title:\n",
    "        return \"jr\"\n",
    "    return \"na\""
   ]
  },
  {
   "cell_type": "code",
   "execution_count": 7,
   "id": "9e6752a2",
   "metadata": {},
   "outputs": [],
   "source": [
    " df['job_simp'] = df['Job Title'].apply(title_simplifier)"
   ]
  },
  {
   "cell_type": "code",
   "execution_count": 9,
   "id": "5d87599d",
   "metadata": {},
   "outputs": [
    {
     "data": {
      "text/plain": [
       "data scientist    440\n",
       "na                 67\n",
       "analyst            55\n",
       "data engineer      45\n",
       "mle                34\n",
       "manager             7\n",
       "director            3\n",
       "vp                  1\n",
       "Name: job_simp, dtype: int64"
      ]
     },
     "execution_count": 9,
     "metadata": {},
     "output_type": "execute_result"
    }
   ],
   "source": [
    "df.job_simp.value_counts()"
   ]
  },
  {
   "cell_type": "code",
   "execution_count": 11,
   "id": "0d2caf8d",
   "metadata": {},
   "outputs": [],
   "source": [
    "df['seniority'] = df['Job Title'].apply(seniority)"
   ]
  },
  {
   "cell_type": "code",
   "execution_count": 12,
   "id": "022236c1",
   "metadata": {},
   "outputs": [
    {
     "data": {
      "text/plain": [
       "na        556\n",
       "senior     95\n",
       "jr          1\n",
       "Name: seniority, dtype: int64"
      ]
     },
     "execution_count": 12,
     "metadata": {},
     "output_type": "execute_result"
    }
   ],
   "source": [
    "df.seniority.value_counts()"
   ]
  },
  {
   "cell_type": "code",
   "execution_count": 14,
   "id": "9c9a94b5",
   "metadata": {
    "scrolled": true
   },
   "outputs": [
    {
     "data": {
      "text/plain": [
       "CA    155\n",
       "VA     89\n",
       "MA     62\n",
       "NY     52\n",
       "MD     40\n",
       "IL     30\n",
       "DC     26\n",
       "TX     18\n",
       "WA     16\n",
       "OH     14\n",
       "NJ     12\n",
       "PA     12\n",
       "MO     12\n",
       "US     11\n",
       "CO     10\n",
       "GA      9\n",
       "NC      9\n",
       "FL      8\n",
       "TN      8\n",
       "OK      6\n",
       "WI      6\n",
       "MI      5\n",
       "IN      5\n",
       "MN      4\n",
       "AZ      4\n",
       "AL      4\n",
       "CT      4\n",
       "NE      3\n",
       "IA      3\n",
       "RI      2\n",
       "UT      2\n",
       "SC      2\n",
       "OR      2\n",
       "NH      2\n",
       "MS      1\n",
       "LA      1\n",
       "KS      1\n",
       "DE      1\n",
       "WV      1\n",
       "Name: job_state, dtype: int64"
      ]
     },
     "execution_count": 14,
     "metadata": {},
     "output_type": "execute_result"
    }
   ],
   "source": [
    "#Fix state los Angeles\n",
    "df.job_state.value_counts()"
   ]
  },
  {
   "cell_type": "code",
   "execution_count": null,
   "id": "c50bbf4f",
   "metadata": {},
   "outputs": [],
   "source": []
  }
 ],
 "metadata": {
  "kernelspec": {
   "display_name": "Python 3 (ipykernel)",
   "language": "python",
   "name": "python3"
  },
  "language_info": {
   "codemirror_mode": {
    "name": "ipython",
    "version": 3
   },
   "file_extension": ".py",
   "mimetype": "text/x-python",
   "name": "python",
   "nbconvert_exporter": "python",
   "pygments_lexer": "ipython3",
   "version": "3.9.16"
  }
 },
 "nbformat": 4,
 "nbformat_minor": 5
}
